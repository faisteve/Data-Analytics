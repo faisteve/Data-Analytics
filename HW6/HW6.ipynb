{
 "cells": [
  {
   "cell_type": "code",
   "execution_count": 1,
   "metadata": {},
   "outputs": [
    {
     "name": "stdout",
     "output_type": "stream",
     "text": [
      "Count of all characters in Stefan Faistenauer is :\n",
      "{'S': 1, 't': 2, 'e': 3, 'f': 1, 'a': 3, 'n': 2, ' ': 1, 'F': 1, 'i': 1, 's': 1, 'u': 1, 'r': 1}\n"
     ]
    }
   ],
   "source": [
    "# Write a function freq to count occurrences of each distinct character in a given string. \n",
    "\n",
    "test_str = \"Stefan Faistenauer\"\n",
    "all_freq = {}\n",
    "\n",
    "for i in test_str:\n",
    "    if i in all_freq:\n",
    "        all_freq[i] += 1\n",
    "    else: \n",
    "        all_freq[i] = 1\n",
    "print(\"Count of all characters in Stefan Faistenauer is :\\n\"+  str(all_freq))\n"
   ]
  },
  {
   "cell_type": "code",
   "execution_count": 5,
   "metadata": {},
   "outputs": [
    {
     "name": "stdout",
     "output_type": "stream",
     "text": [
      "(1, 10)\n"
     ]
    }
   ],
   "source": [
    "# Write a function min_and_max to find the minimum and maximum of a list.\n",
    "\n",
    "list = [1,2,3,4,5,6,7,8,9,10]\n",
    "min_and_max = min(list), max(list)\n",
    "print(min_and_max)"
   ]
  },
  {
   "cell_type": "code",
   "execution_count": 4,
   "metadata": {},
   "outputs": [
    {
     "name": "stdout",
     "output_type": "stream",
     "text": [
      "[ 1  6  8 14]\n"
     ]
    }
   ],
   "source": [
    "# Write a function cum_sum to compute the cumulative sum of a list\n",
    "import numpy as np\n",
    "a=[1,5,2,6]\n",
    "print(np.cumsum(a))"
   ]
  },
  {
   "cell_type": "code",
   "execution_count": 31,
   "metadata": {},
   "outputs": [
    {
     "name": "stdout",
     "output_type": "stream",
     "text": [
      "The dot product of a and b is 22\n"
     ]
    }
   ],
   "source": [
    "# Write a function dot that takes two lists of equal length as arguments, and returns the inner product of the two lists.\n",
    "\n",
    "a = [1, 5,2, 6]\n",
    "b = [0, 2,3, 1]\n",
    "\n",
    "dot_product = np.array(a) @ np.array(b)\n",
    "print(\"The dot product of a and b is\", dot_product)"
   ]
  }
 ],
 "metadata": {
  "kernelspec": {
   "display_name": "Python 3",
   "language": "python",
   "name": "python3"
  },
  "language_info": {
   "codemirror_mode": {
    "name": "ipython",
    "version": 3
   },
   "file_extension": ".py",
   "mimetype": "text/x-python",
   "name": "python",
   "nbconvert_exporter": "python",
   "pygments_lexer": "ipython3",
   "version": "3.7.3"
  }
 },
 "nbformat": 4,
 "nbformat_minor": 2
}
