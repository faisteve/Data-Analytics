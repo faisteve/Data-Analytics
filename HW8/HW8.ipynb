{
 "cells": [
  {
   "cell_type": "markdown",
   "metadata": {},
   "source": [
    "# GDP Data Analysis with Numpy\n",
    "\n",
    "-  We will analyze the [World Bank national GDP data](https://data.worldbank.org/indicator/NY.GDP.MKTP.CD) from 2012 to 2017.\n",
    "-  Data file `GDP.csv` is downloadable from the class repository."
   ]
  },
  {
   "cell_type": "code",
   "execution_count": 1,
   "metadata": {},
   "outputs": [],
   "source": [
    "# import pandas\n",
    "import pandas as pd\n",
    "# import Numpy\n",
    "import numpy as np"
   ]
  },
  {
   "cell_type": "markdown",
   "metadata": {},
   "source": [
    "## Load the Data Set\n",
    "\n",
    "-  The code snippet below reads the data set and generates `gdp`, a Numpy ndarray."
   ]
  },
  {
   "cell_type": "code",
   "execution_count": 10,
   "metadata": {
    "scrolled": true
   },
   "outputs": [],
   "source": [
    "# load the data set\n",
    "df = pd.read_csv('GDP.csv')\n",
    "# gdp is a numpy ndarray\n",
    "gdp = df.loc[:, '2012':'2017'].values"
   ]
  },
  {
   "cell_type": "code",
   "execution_count": 12,
   "metadata": {},
   "outputs": [
    {
     "data": {
      "text/html": [
       "<div>\n",
       "<style scoped>\n",
       "    .dataframe tbody tr th:only-of-type {\n",
       "        vertical-align: middle;\n",
       "    }\n",
       "\n",
       "    .dataframe tbody tr th {\n",
       "        vertical-align: top;\n",
       "    }\n",
       "\n",
       "    .dataframe thead th {\n",
       "        text-align: right;\n",
       "    }\n",
       "</style>\n",
       "<table border=\"1\" class=\"dataframe\">\n",
       "  <thead>\n",
       "    <tr style=\"text-align: right;\">\n",
       "      <th></th>\n",
       "      <th>Country Name</th>\n",
       "      <th>Country Code</th>\n",
       "      <th>Region</th>\n",
       "      <th>2012</th>\n",
       "      <th>2013</th>\n",
       "      <th>2014</th>\n",
       "      <th>2015</th>\n",
       "      <th>2016</th>\n",
       "      <th>2017</th>\n",
       "    </tr>\n",
       "  </thead>\n",
       "  <tbody>\n",
       "    <tr>\n",
       "      <th>0</th>\n",
       "      <td>Afghanistan</td>\n",
       "      <td>AFG</td>\n",
       "      <td>South Asia</td>\n",
       "      <td>0.0200</td>\n",
       "      <td>0.0206</td>\n",
       "      <td>0.0205</td>\n",
       "      <td>0.0199</td>\n",
       "      <td>0.0194</td>\n",
       "      <td>0.0202</td>\n",
       "    </tr>\n",
       "    <tr>\n",
       "      <th>1</th>\n",
       "      <td>Albania</td>\n",
       "      <td>ALB</td>\n",
       "      <td>Europe &amp; Central Asia</td>\n",
       "      <td>0.0123</td>\n",
       "      <td>0.0128</td>\n",
       "      <td>0.0132</td>\n",
       "      <td>0.0114</td>\n",
       "      <td>0.0119</td>\n",
       "      <td>0.0130</td>\n",
       "    </tr>\n",
       "    <tr>\n",
       "      <th>2</th>\n",
       "      <td>Algeria</td>\n",
       "      <td>DZA</td>\n",
       "      <td>Middle East &amp; North Africa</td>\n",
       "      <td>0.2091</td>\n",
       "      <td>0.2098</td>\n",
       "      <td>0.2138</td>\n",
       "      <td>0.1660</td>\n",
       "      <td>0.1601</td>\n",
       "      <td>0.1676</td>\n",
       "    </tr>\n",
       "    <tr>\n",
       "      <th>3</th>\n",
       "      <td>American Samoa</td>\n",
       "      <td>ASM</td>\n",
       "      <td>East Asia &amp; Pacific</td>\n",
       "      <td>0.0006</td>\n",
       "      <td>0.0006</td>\n",
       "      <td>0.0006</td>\n",
       "      <td>0.0007</td>\n",
       "      <td>0.0007</td>\n",
       "      <td>0.0006</td>\n",
       "    </tr>\n",
       "    <tr>\n",
       "      <th>4</th>\n",
       "      <td>Andorra</td>\n",
       "      <td>AND</td>\n",
       "      <td>Europe &amp; Central Asia</td>\n",
       "      <td>0.0032</td>\n",
       "      <td>0.0033</td>\n",
       "      <td>0.0034</td>\n",
       "      <td>0.0028</td>\n",
       "      <td>0.0029</td>\n",
       "      <td>0.0030</td>\n",
       "    </tr>\n",
       "    <tr>\n",
       "      <th>5</th>\n",
       "      <td>Angola</td>\n",
       "      <td>AGO</td>\n",
       "      <td>Sub-Saharan Africa</td>\n",
       "      <td>0.1281</td>\n",
       "      <td>0.1367</td>\n",
       "      <td>0.1457</td>\n",
       "      <td>0.1162</td>\n",
       "      <td>0.1011</td>\n",
       "      <td>0.1221</td>\n",
       "    </tr>\n",
       "    <tr>\n",
       "      <th>6</th>\n",
       "      <td>Antigua and Barbuda</td>\n",
       "      <td>ATG</td>\n",
       "      <td>Latin America &amp; Caribbean</td>\n",
       "      <td>0.0012</td>\n",
       "      <td>0.0012</td>\n",
       "      <td>0.0013</td>\n",
       "      <td>0.0014</td>\n",
       "      <td>0.0015</td>\n",
       "      <td>0.0015</td>\n",
       "    </tr>\n",
       "    <tr>\n",
       "      <th>7</th>\n",
       "      <td>Argentina</td>\n",
       "      <td>ARG</td>\n",
       "      <td>Latin America &amp; Caribbean</td>\n",
       "      <td>0.5460</td>\n",
       "      <td>0.5520</td>\n",
       "      <td>0.5263</td>\n",
       "      <td>0.5947</td>\n",
       "      <td>0.5575</td>\n",
       "      <td>0.6427</td>\n",
       "    </tr>\n",
       "    <tr>\n",
       "      <th>8</th>\n",
       "      <td>Armenia</td>\n",
       "      <td>ARM</td>\n",
       "      <td>Europe &amp; Central Asia</td>\n",
       "      <td>0.0106</td>\n",
       "      <td>0.0111</td>\n",
       "      <td>0.0116</td>\n",
       "      <td>0.0106</td>\n",
       "      <td>0.0105</td>\n",
       "      <td>0.0115</td>\n",
       "    </tr>\n",
       "    <tr>\n",
       "      <th>9</th>\n",
       "      <td>Aruba</td>\n",
       "      <td>ABW</td>\n",
       "      <td>Latin America &amp; Caribbean</td>\n",
       "      <td>0.0025</td>\n",
       "      <td>0.0026</td>\n",
       "      <td>0.0026</td>\n",
       "      <td>0.0027</td>\n",
       "      <td>0.0026</td>\n",
       "      <td>0.0027</td>\n",
       "    </tr>\n",
       "    <tr>\n",
       "      <th>10</th>\n",
       "      <td>Australia</td>\n",
       "      <td>AUS</td>\n",
       "      <td>East Asia &amp; Pacific</td>\n",
       "      <td>1.5462</td>\n",
       "      <td>1.5762</td>\n",
       "      <td>1.4675</td>\n",
       "      <td>1.3515</td>\n",
       "      <td>1.2100</td>\n",
       "      <td>1.3308</td>\n",
       "    </tr>\n",
       "    <tr>\n",
       "      <th>11</th>\n",
       "      <td>Austria</td>\n",
       "      <td>AUT</td>\n",
       "      <td>Europe &amp; Central Asia</td>\n",
       "      <td>0.4094</td>\n",
       "      <td>0.4301</td>\n",
       "      <td>0.4420</td>\n",
       "      <td>0.3818</td>\n",
       "      <td>0.3941</td>\n",
       "      <td>0.4168</td>\n",
       "    </tr>\n",
       "    <tr>\n",
       "      <th>12</th>\n",
       "      <td>Azerbaijan</td>\n",
       "      <td>AZE</td>\n",
       "      <td>Europe &amp; Central Asia</td>\n",
       "      <td>0.0697</td>\n",
       "      <td>0.0742</td>\n",
       "      <td>0.0752</td>\n",
       "      <td>0.0531</td>\n",
       "      <td>0.0379</td>\n",
       "      <td>0.0409</td>\n",
       "    </tr>\n",
       "    <tr>\n",
       "      <th>13</th>\n",
       "      <td>Bahamas, The</td>\n",
       "      <td>BHS</td>\n",
       "      <td>Latin America &amp; Caribbean</td>\n",
       "      <td>0.0107</td>\n",
       "      <td>0.0106</td>\n",
       "      <td>0.0110</td>\n",
       "      <td>0.0118</td>\n",
       "      <td>0.0118</td>\n",
       "      <td>0.0122</td>\n",
       "    </tr>\n",
       "    <tr>\n",
       "      <th>14</th>\n",
       "      <td>Bahrain</td>\n",
       "      <td>BHR</td>\n",
       "      <td>Middle East &amp; North Africa</td>\n",
       "      <td>0.0307</td>\n",
       "      <td>0.0325</td>\n",
       "      <td>0.0334</td>\n",
       "      <td>0.0311</td>\n",
       "      <td>0.0323</td>\n",
       "      <td>0.0354</td>\n",
       "    </tr>\n",
       "    <tr>\n",
       "      <th>15</th>\n",
       "      <td>Bangladesh</td>\n",
       "      <td>BGD</td>\n",
       "      <td>South Asia</td>\n",
       "      <td>0.1334</td>\n",
       "      <td>0.1500</td>\n",
       "      <td>0.1729</td>\n",
       "      <td>0.1951</td>\n",
       "      <td>0.2214</td>\n",
       "      <td>0.2497</td>\n",
       "    </tr>\n",
       "    <tr>\n",
       "      <th>16</th>\n",
       "      <td>Barbados</td>\n",
       "      <td>BRB</td>\n",
       "      <td>Latin America &amp; Caribbean</td>\n",
       "      <td>0.0047</td>\n",
       "      <td>0.0046</td>\n",
       "      <td>0.0046</td>\n",
       "      <td>0.0046</td>\n",
       "      <td>0.0045</td>\n",
       "      <td>0.0047</td>\n",
       "    </tr>\n",
       "    <tr>\n",
       "      <th>17</th>\n",
       "      <td>Belarus</td>\n",
       "      <td>BLR</td>\n",
       "      <td>Europe &amp; Central Asia</td>\n",
       "      <td>0.0657</td>\n",
       "      <td>0.0755</td>\n",
       "      <td>0.0788</td>\n",
       "      <td>0.0565</td>\n",
       "      <td>0.0477</td>\n",
       "      <td>0.0547</td>\n",
       "    </tr>\n",
       "    <tr>\n",
       "      <th>18</th>\n",
       "      <td>Belgium</td>\n",
       "      <td>BEL</td>\n",
       "      <td>Europe &amp; Central Asia</td>\n",
       "      <td>0.4979</td>\n",
       "      <td>0.5209</td>\n",
       "      <td>0.5308</td>\n",
       "      <td>0.4559</td>\n",
       "      <td>0.4697</td>\n",
       "      <td>0.4949</td>\n",
       "    </tr>\n",
       "    <tr>\n",
       "      <th>19</th>\n",
       "      <td>Belize</td>\n",
       "      <td>BLZ</td>\n",
       "      <td>Latin America &amp; Caribbean</td>\n",
       "      <td>0.0016</td>\n",
       "      <td>0.0016</td>\n",
       "      <td>0.0017</td>\n",
       "      <td>0.0018</td>\n",
       "      <td>0.0018</td>\n",
       "      <td>0.0019</td>\n",
       "    </tr>\n",
       "    <tr>\n",
       "      <th>20</th>\n",
       "      <td>Benin</td>\n",
       "      <td>BEN</td>\n",
       "      <td>Sub-Saharan Africa</td>\n",
       "      <td>0.0082</td>\n",
       "      <td>0.0092</td>\n",
       "      <td>0.0097</td>\n",
       "      <td>0.0083</td>\n",
       "      <td>0.0086</td>\n",
       "      <td>0.0092</td>\n",
       "    </tr>\n",
       "    <tr>\n",
       "      <th>21</th>\n",
       "      <td>Bhutan</td>\n",
       "      <td>BTN</td>\n",
       "      <td>South Asia</td>\n",
       "      <td>0.0018</td>\n",
       "      <td>0.0018</td>\n",
       "      <td>0.0020</td>\n",
       "      <td>0.0021</td>\n",
       "      <td>0.0022</td>\n",
       "      <td>0.0025</td>\n",
       "    </tr>\n",
       "    <tr>\n",
       "      <th>22</th>\n",
       "      <td>Bolivia</td>\n",
       "      <td>BOL</td>\n",
       "      <td>Latin America &amp; Caribbean</td>\n",
       "      <td>0.0271</td>\n",
       "      <td>0.0307</td>\n",
       "      <td>0.0330</td>\n",
       "      <td>0.0330</td>\n",
       "      <td>0.0339</td>\n",
       "      <td>0.0375</td>\n",
       "    </tr>\n",
       "    <tr>\n",
       "      <th>23</th>\n",
       "      <td>Bosnia and Herzegovina</td>\n",
       "      <td>BIH</td>\n",
       "      <td>Europe &amp; Central Asia</td>\n",
       "      <td>0.0172</td>\n",
       "      <td>0.0182</td>\n",
       "      <td>0.0186</td>\n",
       "      <td>0.0162</td>\n",
       "      <td>0.0169</td>\n",
       "      <td>0.0181</td>\n",
       "    </tr>\n",
       "    <tr>\n",
       "      <th>24</th>\n",
       "      <td>Botswana</td>\n",
       "      <td>BWA</td>\n",
       "      <td>Sub-Saharan Africa</td>\n",
       "      <td>0.0161</td>\n",
       "      <td>0.0149</td>\n",
       "      <td>0.0163</td>\n",
       "      <td>0.0144</td>\n",
       "      <td>0.0156</td>\n",
       "      <td>0.0174</td>\n",
       "    </tr>\n",
       "    <tr>\n",
       "      <th>25</th>\n",
       "      <td>Brazil</td>\n",
       "      <td>BRA</td>\n",
       "      <td>Latin America &amp; Caribbean</td>\n",
       "      <td>2.4652</td>\n",
       "      <td>2.4728</td>\n",
       "      <td>2.4560</td>\n",
       "      <td>1.8022</td>\n",
       "      <td>1.7963</td>\n",
       "      <td>2.0536</td>\n",
       "    </tr>\n",
       "    <tr>\n",
       "      <th>26</th>\n",
       "      <td>Brunei Darussalam</td>\n",
       "      <td>BRN</td>\n",
       "      <td>East Asia &amp; Pacific</td>\n",
       "      <td>0.0190</td>\n",
       "      <td>0.0181</td>\n",
       "      <td>0.0171</td>\n",
       "      <td>0.0129</td>\n",
       "      <td>0.0114</td>\n",
       "      <td>0.0121</td>\n",
       "    </tr>\n",
       "    <tr>\n",
       "      <th>27</th>\n",
       "      <td>Bulgaria</td>\n",
       "      <td>BGR</td>\n",
       "      <td>Europe &amp; Central Asia</td>\n",
       "      <td>0.0539</td>\n",
       "      <td>0.0556</td>\n",
       "      <td>0.0568</td>\n",
       "      <td>0.0502</td>\n",
       "      <td>0.0532</td>\n",
       "      <td>0.0582</td>\n",
       "    </tr>\n",
       "    <tr>\n",
       "      <th>28</th>\n",
       "      <td>Burkina Faso</td>\n",
       "      <td>BFA</td>\n",
       "      <td>Sub-Saharan Africa</td>\n",
       "      <td>0.0112</td>\n",
       "      <td>0.0119</td>\n",
       "      <td>0.0124</td>\n",
       "      <td>0.0104</td>\n",
       "      <td>0.0109</td>\n",
       "      <td>0.0123</td>\n",
       "    </tr>\n",
       "    <tr>\n",
       "      <th>29</th>\n",
       "      <td>Burundi</td>\n",
       "      <td>BDI</td>\n",
       "      <td>Sub-Saharan Africa</td>\n",
       "      <td>0.0023</td>\n",
       "      <td>0.0025</td>\n",
       "      <td>0.0027</td>\n",
       "      <td>0.0031</td>\n",
       "      <td>0.0030</td>\n",
       "      <td>0.0032</td>\n",
       "    </tr>\n",
       "    <tr>\n",
       "      <th>...</th>\n",
       "      <td>...</td>\n",
       "      <td>...</td>\n",
       "      <td>...</td>\n",
       "      <td>...</td>\n",
       "      <td>...</td>\n",
       "      <td>...</td>\n",
       "      <td>...</td>\n",
       "      <td>...</td>\n",
       "      <td>...</td>\n",
       "    </tr>\n",
       "    <tr>\n",
       "      <th>167</th>\n",
       "      <td>St. Vincent and the Grenadines</td>\n",
       "      <td>VCT</td>\n",
       "      <td>Latin America &amp; Caribbean</td>\n",
       "      <td>0.0007</td>\n",
       "      <td>0.0007</td>\n",
       "      <td>0.0007</td>\n",
       "      <td>0.0008</td>\n",
       "      <td>0.0008</td>\n",
       "      <td>0.0008</td>\n",
       "    </tr>\n",
       "    <tr>\n",
       "      <th>168</th>\n",
       "      <td>Sudan</td>\n",
       "      <td>SDN</td>\n",
       "      <td>Sub-Saharan Africa</td>\n",
       "      <td>0.0681</td>\n",
       "      <td>0.0721</td>\n",
       "      <td>0.0822</td>\n",
       "      <td>0.0967</td>\n",
       "      <td>0.0956</td>\n",
       "      <td>0.1231</td>\n",
       "    </tr>\n",
       "    <tr>\n",
       "      <th>169</th>\n",
       "      <td>Suriname</td>\n",
       "      <td>SUR</td>\n",
       "      <td>Latin America &amp; Caribbean</td>\n",
       "      <td>0.0050</td>\n",
       "      <td>0.0051</td>\n",
       "      <td>0.0052</td>\n",
       "      <td>0.0048</td>\n",
       "      <td>0.0032</td>\n",
       "      <td>0.0031</td>\n",
       "    </tr>\n",
       "    <tr>\n",
       "      <th>170</th>\n",
       "      <td>Sweden</td>\n",
       "      <td>SWE</td>\n",
       "      <td>Europe &amp; Central Asia</td>\n",
       "      <td>0.5445</td>\n",
       "      <td>0.5794</td>\n",
       "      <td>0.5744</td>\n",
       "      <td>0.4981</td>\n",
       "      <td>0.5122</td>\n",
       "      <td>0.5356</td>\n",
       "    </tr>\n",
       "    <tr>\n",
       "      <th>171</th>\n",
       "      <td>Switzerland</td>\n",
       "      <td>CHE</td>\n",
       "      <td>Europe &amp; Central Asia</td>\n",
       "      <td>0.6680</td>\n",
       "      <td>0.6885</td>\n",
       "      <td>0.7092</td>\n",
       "      <td>0.6798</td>\n",
       "      <td>0.6702</td>\n",
       "      <td>0.6790</td>\n",
       "    </tr>\n",
       "    <tr>\n",
       "      <th>172</th>\n",
       "      <td>Tajikistan</td>\n",
       "      <td>TJK</td>\n",
       "      <td>Europe &amp; Central Asia</td>\n",
       "      <td>0.0076</td>\n",
       "      <td>0.0084</td>\n",
       "      <td>0.0091</td>\n",
       "      <td>0.0079</td>\n",
       "      <td>0.0070</td>\n",
       "      <td>0.0072</td>\n",
       "    </tr>\n",
       "    <tr>\n",
       "      <th>173</th>\n",
       "      <td>Tanzania</td>\n",
       "      <td>TZA</td>\n",
       "      <td>Sub-Saharan Africa</td>\n",
       "      <td>0.0397</td>\n",
       "      <td>0.0457</td>\n",
       "      <td>0.0500</td>\n",
       "      <td>0.0474</td>\n",
       "      <td>0.0498</td>\n",
       "      <td>0.0533</td>\n",
       "    </tr>\n",
       "    <tr>\n",
       "      <th>174</th>\n",
       "      <td>Thailand</td>\n",
       "      <td>THA</td>\n",
       "      <td>East Asia &amp; Pacific</td>\n",
       "      <td>0.3976</td>\n",
       "      <td>0.4203</td>\n",
       "      <td>0.4073</td>\n",
       "      <td>0.4013</td>\n",
       "      <td>0.4124</td>\n",
       "      <td>0.4553</td>\n",
       "    </tr>\n",
       "    <tr>\n",
       "      <th>175</th>\n",
       "      <td>Timor-Leste</td>\n",
       "      <td>TLS</td>\n",
       "      <td>East Asia &amp; Pacific</td>\n",
       "      <td>0.0067</td>\n",
       "      <td>0.0056</td>\n",
       "      <td>0.0040</td>\n",
       "      <td>0.0031</td>\n",
       "      <td>0.0025</td>\n",
       "      <td>0.0025</td>\n",
       "    </tr>\n",
       "    <tr>\n",
       "      <th>176</th>\n",
       "      <td>Togo</td>\n",
       "      <td>TGO</td>\n",
       "      <td>Sub-Saharan Africa</td>\n",
       "      <td>0.0039</td>\n",
       "      <td>0.0043</td>\n",
       "      <td>0.0046</td>\n",
       "      <td>0.0042</td>\n",
       "      <td>0.0044</td>\n",
       "      <td>0.0048</td>\n",
       "    </tr>\n",
       "    <tr>\n",
       "      <th>177</th>\n",
       "      <td>Tonga</td>\n",
       "      <td>TON</td>\n",
       "      <td>East Asia &amp; Pacific</td>\n",
       "      <td>0.0005</td>\n",
       "      <td>0.0005</td>\n",
       "      <td>0.0004</td>\n",
       "      <td>0.0004</td>\n",
       "      <td>0.0004</td>\n",
       "      <td>0.0004</td>\n",
       "    </tr>\n",
       "    <tr>\n",
       "      <th>178</th>\n",
       "      <td>Trinidad and Tobago</td>\n",
       "      <td>TTO</td>\n",
       "      <td>Latin America &amp; Caribbean</td>\n",
       "      <td>0.0258</td>\n",
       "      <td>0.0271</td>\n",
       "      <td>0.0275</td>\n",
       "      <td>0.0251</td>\n",
       "      <td>0.0217</td>\n",
       "      <td>0.0223</td>\n",
       "    </tr>\n",
       "    <tr>\n",
       "      <th>179</th>\n",
       "      <td>Tunisia</td>\n",
       "      <td>TUN</td>\n",
       "      <td>Middle East &amp; North Africa</td>\n",
       "      <td>0.0450</td>\n",
       "      <td>0.0463</td>\n",
       "      <td>0.0476</td>\n",
       "      <td>0.0432</td>\n",
       "      <td>0.0418</td>\n",
       "      <td>0.0400</td>\n",
       "    </tr>\n",
       "    <tr>\n",
       "      <th>180</th>\n",
       "      <td>Turkey</td>\n",
       "      <td>TUR</td>\n",
       "      <td>Europe &amp; Central Asia</td>\n",
       "      <td>0.8740</td>\n",
       "      <td>0.9506</td>\n",
       "      <td>0.9342</td>\n",
       "      <td>0.8598</td>\n",
       "      <td>0.8637</td>\n",
       "      <td>0.8515</td>\n",
       "    </tr>\n",
       "    <tr>\n",
       "      <th>181</th>\n",
       "      <td>Turkmenistan</td>\n",
       "      <td>TKM</td>\n",
       "      <td>Europe &amp; Central Asia</td>\n",
       "      <td>0.0352</td>\n",
       "      <td>0.0392</td>\n",
       "      <td>0.0435</td>\n",
       "      <td>0.0358</td>\n",
       "      <td>0.0362</td>\n",
       "      <td>0.0379</td>\n",
       "    </tr>\n",
       "    <tr>\n",
       "      <th>182</th>\n",
       "      <td>Turks and Caicos Islands</td>\n",
       "      <td>TCA</td>\n",
       "      <td>Latin America &amp; Caribbean</td>\n",
       "      <td>0.0007</td>\n",
       "      <td>0.0007</td>\n",
       "      <td>0.0008</td>\n",
       "      <td>0.0009</td>\n",
       "      <td>0.0010</td>\n",
       "      <td>0.0010</td>\n",
       "    </tr>\n",
       "    <tr>\n",
       "      <th>183</th>\n",
       "      <td>Uganda</td>\n",
       "      <td>UGA</td>\n",
       "      <td>Sub-Saharan Africa</td>\n",
       "      <td>0.0231</td>\n",
       "      <td>0.0246</td>\n",
       "      <td>0.0273</td>\n",
       "      <td>0.0271</td>\n",
       "      <td>0.0241</td>\n",
       "      <td>0.0260</td>\n",
       "    </tr>\n",
       "    <tr>\n",
       "      <th>184</th>\n",
       "      <td>Ukraine</td>\n",
       "      <td>UKR</td>\n",
       "      <td>Europe &amp; Central Asia</td>\n",
       "      <td>0.1758</td>\n",
       "      <td>0.1833</td>\n",
       "      <td>0.1335</td>\n",
       "      <td>0.0910</td>\n",
       "      <td>0.0934</td>\n",
       "      <td>0.1122</td>\n",
       "    </tr>\n",
       "    <tr>\n",
       "      <th>185</th>\n",
       "      <td>United Arab Emirates</td>\n",
       "      <td>ARE</td>\n",
       "      <td>Middle East &amp; North Africa</td>\n",
       "      <td>0.3746</td>\n",
       "      <td>0.3901</td>\n",
       "      <td>0.4031</td>\n",
       "      <td>0.3581</td>\n",
       "      <td>0.3570</td>\n",
       "      <td>0.3826</td>\n",
       "    </tr>\n",
       "    <tr>\n",
       "      <th>186</th>\n",
       "      <td>United Kingdom</td>\n",
       "      <td>GBR</td>\n",
       "      <td>Europe &amp; Central Asia</td>\n",
       "      <td>2.6766</td>\n",
       "      <td>2.7536</td>\n",
       "      <td>3.0347</td>\n",
       "      <td>2.8964</td>\n",
       "      <td>2.6592</td>\n",
       "      <td>2.6379</td>\n",
       "    </tr>\n",
       "    <tr>\n",
       "      <th>187</th>\n",
       "      <td>United States</td>\n",
       "      <td>USA</td>\n",
       "      <td>North America</td>\n",
       "      <td>16.1970</td>\n",
       "      <td>16.7848</td>\n",
       "      <td>17.5217</td>\n",
       "      <td>18.2193</td>\n",
       "      <td>18.7072</td>\n",
       "      <td>19.4854</td>\n",
       "    </tr>\n",
       "    <tr>\n",
       "      <th>188</th>\n",
       "      <td>Uruguay</td>\n",
       "      <td>URY</td>\n",
       "      <td>Latin America &amp; Caribbean</td>\n",
       "      <td>0.0513</td>\n",
       "      <td>0.0575</td>\n",
       "      <td>0.0572</td>\n",
       "      <td>0.0533</td>\n",
       "      <td>0.0527</td>\n",
       "      <td>0.0565</td>\n",
       "    </tr>\n",
       "    <tr>\n",
       "      <th>189</th>\n",
       "      <td>Uzbekistan</td>\n",
       "      <td>UZB</td>\n",
       "      <td>Europe &amp; Central Asia</td>\n",
       "      <td>0.0518</td>\n",
       "      <td>0.0577</td>\n",
       "      <td>0.0767</td>\n",
       "      <td>0.0818</td>\n",
       "      <td>0.0818</td>\n",
       "      <td>0.0592</td>\n",
       "    </tr>\n",
       "    <tr>\n",
       "      <th>190</th>\n",
       "      <td>Vanuatu</td>\n",
       "      <td>VUT</td>\n",
       "      <td>East Asia &amp; Pacific</td>\n",
       "      <td>0.0008</td>\n",
       "      <td>0.0008</td>\n",
       "      <td>0.0008</td>\n",
       "      <td>0.0007</td>\n",
       "      <td>0.0008</td>\n",
       "      <td>0.0008</td>\n",
       "    </tr>\n",
       "    <tr>\n",
       "      <th>191</th>\n",
       "      <td>Vietnam</td>\n",
       "      <td>VNM</td>\n",
       "      <td>East Asia &amp; Pacific</td>\n",
       "      <td>0.1558</td>\n",
       "      <td>0.1712</td>\n",
       "      <td>0.1862</td>\n",
       "      <td>0.1932</td>\n",
       "      <td>0.2053</td>\n",
       "      <td>0.2238</td>\n",
       "    </tr>\n",
       "    <tr>\n",
       "      <th>192</th>\n",
       "      <td>Virgin Islands (U.S.)</td>\n",
       "      <td>VIR</td>\n",
       "      <td>Latin America &amp; Caribbean</td>\n",
       "      <td>0.0041</td>\n",
       "      <td>0.0038</td>\n",
       "      <td>0.0036</td>\n",
       "      <td>0.0037</td>\n",
       "      <td>0.0039</td>\n",
       "      <td>0.0039</td>\n",
       "    </tr>\n",
       "    <tr>\n",
       "      <th>193</th>\n",
       "      <td>West Bank and Gaza</td>\n",
       "      <td>PSE</td>\n",
       "      <td>Middle East &amp; North Africa</td>\n",
       "      <td>0.0113</td>\n",
       "      <td>0.0125</td>\n",
       "      <td>0.0127</td>\n",
       "      <td>0.0127</td>\n",
       "      <td>0.0134</td>\n",
       "      <td>0.0145</td>\n",
       "    </tr>\n",
       "    <tr>\n",
       "      <th>194</th>\n",
       "      <td>Yemen, Rep.</td>\n",
       "      <td>YEM</td>\n",
       "      <td>Middle East &amp; North Africa</td>\n",
       "      <td>0.0354</td>\n",
       "      <td>0.0404</td>\n",
       "      <td>0.0432</td>\n",
       "      <td>0.0426</td>\n",
       "      <td>0.0310</td>\n",
       "      <td>0.0268</td>\n",
       "    </tr>\n",
       "    <tr>\n",
       "      <th>195</th>\n",
       "      <td>Zambia</td>\n",
       "      <td>ZMB</td>\n",
       "      <td>Sub-Saharan Africa</td>\n",
       "      <td>0.0255</td>\n",
       "      <td>0.0280</td>\n",
       "      <td>0.0272</td>\n",
       "      <td>0.0212</td>\n",
       "      <td>0.0210</td>\n",
       "      <td>0.0259</td>\n",
       "    </tr>\n",
       "    <tr>\n",
       "      <th>196</th>\n",
       "      <td>Zimbabwe</td>\n",
       "      <td>ZWE</td>\n",
       "      <td>Sub-Saharan Africa</td>\n",
       "      <td>0.0171</td>\n",
       "      <td>0.0191</td>\n",
       "      <td>0.0195</td>\n",
       "      <td>0.0200</td>\n",
       "      <td>0.0205</td>\n",
       "      <td>0.0228</td>\n",
       "    </tr>\n",
       "  </tbody>\n",
       "</table>\n",
       "<p>197 rows × 9 columns</p>\n",
       "</div>"
      ],
      "text/plain": [
       "                       Country Name Country Code                      Region  \\\n",
       "0                       Afghanistan          AFG                  South Asia   \n",
       "1                           Albania          ALB       Europe & Central Asia   \n",
       "2                           Algeria          DZA  Middle East & North Africa   \n",
       "3                    American Samoa          ASM         East Asia & Pacific   \n",
       "4                           Andorra          AND       Europe & Central Asia   \n",
       "5                            Angola          AGO          Sub-Saharan Africa   \n",
       "6               Antigua and Barbuda          ATG   Latin America & Caribbean   \n",
       "7                         Argentina          ARG   Latin America & Caribbean   \n",
       "8                           Armenia          ARM       Europe & Central Asia   \n",
       "9                             Aruba          ABW   Latin America & Caribbean   \n",
       "10                        Australia          AUS         East Asia & Pacific   \n",
       "11                          Austria          AUT       Europe & Central Asia   \n",
       "12                       Azerbaijan          AZE       Europe & Central Asia   \n",
       "13                     Bahamas, The          BHS   Latin America & Caribbean   \n",
       "14                          Bahrain          BHR  Middle East & North Africa   \n",
       "15                       Bangladesh          BGD                  South Asia   \n",
       "16                         Barbados          BRB   Latin America & Caribbean   \n",
       "17                          Belarus          BLR       Europe & Central Asia   \n",
       "18                          Belgium          BEL       Europe & Central Asia   \n",
       "19                           Belize          BLZ   Latin America & Caribbean   \n",
       "20                            Benin          BEN          Sub-Saharan Africa   \n",
       "21                           Bhutan          BTN                  South Asia   \n",
       "22                          Bolivia          BOL   Latin America & Caribbean   \n",
       "23           Bosnia and Herzegovina          BIH       Europe & Central Asia   \n",
       "24                         Botswana          BWA          Sub-Saharan Africa   \n",
       "25                           Brazil          BRA   Latin America & Caribbean   \n",
       "26                Brunei Darussalam          BRN         East Asia & Pacific   \n",
       "27                         Bulgaria          BGR       Europe & Central Asia   \n",
       "28                     Burkina Faso          BFA          Sub-Saharan Africa   \n",
       "29                          Burundi          BDI          Sub-Saharan Africa   \n",
       "..                              ...          ...                         ...   \n",
       "167  St. Vincent and the Grenadines          VCT   Latin America & Caribbean   \n",
       "168                           Sudan          SDN          Sub-Saharan Africa   \n",
       "169                        Suriname          SUR   Latin America & Caribbean   \n",
       "170                          Sweden          SWE       Europe & Central Asia   \n",
       "171                     Switzerland          CHE       Europe & Central Asia   \n",
       "172                      Tajikistan          TJK       Europe & Central Asia   \n",
       "173                        Tanzania          TZA          Sub-Saharan Africa   \n",
       "174                        Thailand          THA         East Asia & Pacific   \n",
       "175                     Timor-Leste          TLS         East Asia & Pacific   \n",
       "176                            Togo          TGO          Sub-Saharan Africa   \n",
       "177                           Tonga          TON         East Asia & Pacific   \n",
       "178             Trinidad and Tobago          TTO   Latin America & Caribbean   \n",
       "179                         Tunisia          TUN  Middle East & North Africa   \n",
       "180                          Turkey          TUR       Europe & Central Asia   \n",
       "181                    Turkmenistan          TKM       Europe & Central Asia   \n",
       "182        Turks and Caicos Islands          TCA   Latin America & Caribbean   \n",
       "183                          Uganda          UGA          Sub-Saharan Africa   \n",
       "184                         Ukraine          UKR       Europe & Central Asia   \n",
       "185            United Arab Emirates          ARE  Middle East & North Africa   \n",
       "186                  United Kingdom          GBR       Europe & Central Asia   \n",
       "187                   United States          USA               North America   \n",
       "188                         Uruguay          URY   Latin America & Caribbean   \n",
       "189                      Uzbekistan          UZB       Europe & Central Asia   \n",
       "190                         Vanuatu          VUT         East Asia & Pacific   \n",
       "191                         Vietnam          VNM         East Asia & Pacific   \n",
       "192           Virgin Islands (U.S.)          VIR   Latin America & Caribbean   \n",
       "193              West Bank and Gaza          PSE  Middle East & North Africa   \n",
       "194                     Yemen, Rep.          YEM  Middle East & North Africa   \n",
       "195                          Zambia          ZMB          Sub-Saharan Africa   \n",
       "196                        Zimbabwe          ZWE          Sub-Saharan Africa   \n",
       "\n",
       "        2012     2013     2014     2015     2016     2017  \n",
       "0     0.0200   0.0206   0.0205   0.0199   0.0194   0.0202  \n",
       "1     0.0123   0.0128   0.0132   0.0114   0.0119   0.0130  \n",
       "2     0.2091   0.2098   0.2138   0.1660   0.1601   0.1676  \n",
       "3     0.0006   0.0006   0.0006   0.0007   0.0007   0.0006  \n",
       "4     0.0032   0.0033   0.0034   0.0028   0.0029   0.0030  \n",
       "5     0.1281   0.1367   0.1457   0.1162   0.1011   0.1221  \n",
       "6     0.0012   0.0012   0.0013   0.0014   0.0015   0.0015  \n",
       "7     0.5460   0.5520   0.5263   0.5947   0.5575   0.6427  \n",
       "8     0.0106   0.0111   0.0116   0.0106   0.0105   0.0115  \n",
       "9     0.0025   0.0026   0.0026   0.0027   0.0026   0.0027  \n",
       "10    1.5462   1.5762   1.4675   1.3515   1.2100   1.3308  \n",
       "11    0.4094   0.4301   0.4420   0.3818   0.3941   0.4168  \n",
       "12    0.0697   0.0742   0.0752   0.0531   0.0379   0.0409  \n",
       "13    0.0107   0.0106   0.0110   0.0118   0.0118   0.0122  \n",
       "14    0.0307   0.0325   0.0334   0.0311   0.0323   0.0354  \n",
       "15    0.1334   0.1500   0.1729   0.1951   0.2214   0.2497  \n",
       "16    0.0047   0.0046   0.0046   0.0046   0.0045   0.0047  \n",
       "17    0.0657   0.0755   0.0788   0.0565   0.0477   0.0547  \n",
       "18    0.4979   0.5209   0.5308   0.4559   0.4697   0.4949  \n",
       "19    0.0016   0.0016   0.0017   0.0018   0.0018   0.0019  \n",
       "20    0.0082   0.0092   0.0097   0.0083   0.0086   0.0092  \n",
       "21    0.0018   0.0018   0.0020   0.0021   0.0022   0.0025  \n",
       "22    0.0271   0.0307   0.0330   0.0330   0.0339   0.0375  \n",
       "23    0.0172   0.0182   0.0186   0.0162   0.0169   0.0181  \n",
       "24    0.0161   0.0149   0.0163   0.0144   0.0156   0.0174  \n",
       "25    2.4652   2.4728   2.4560   1.8022   1.7963   2.0536  \n",
       "26    0.0190   0.0181   0.0171   0.0129   0.0114   0.0121  \n",
       "27    0.0539   0.0556   0.0568   0.0502   0.0532   0.0582  \n",
       "28    0.0112   0.0119   0.0124   0.0104   0.0109   0.0123  \n",
       "29    0.0023   0.0025   0.0027   0.0031   0.0030   0.0032  \n",
       "..       ...      ...      ...      ...      ...      ...  \n",
       "167   0.0007   0.0007   0.0007   0.0008   0.0008   0.0008  \n",
       "168   0.0681   0.0721   0.0822   0.0967   0.0956   0.1231  \n",
       "169   0.0050   0.0051   0.0052   0.0048   0.0032   0.0031  \n",
       "170   0.5445   0.5794   0.5744   0.4981   0.5122   0.5356  \n",
       "171   0.6680   0.6885   0.7092   0.6798   0.6702   0.6790  \n",
       "172   0.0076   0.0084   0.0091   0.0079   0.0070   0.0072  \n",
       "173   0.0397   0.0457   0.0500   0.0474   0.0498   0.0533  \n",
       "174   0.3976   0.4203   0.4073   0.4013   0.4124   0.4553  \n",
       "175   0.0067   0.0056   0.0040   0.0031   0.0025   0.0025  \n",
       "176   0.0039   0.0043   0.0046   0.0042   0.0044   0.0048  \n",
       "177   0.0005   0.0005   0.0004   0.0004   0.0004   0.0004  \n",
       "178   0.0258   0.0271   0.0275   0.0251   0.0217   0.0223  \n",
       "179   0.0450   0.0463   0.0476   0.0432   0.0418   0.0400  \n",
       "180   0.8740   0.9506   0.9342   0.8598   0.8637   0.8515  \n",
       "181   0.0352   0.0392   0.0435   0.0358   0.0362   0.0379  \n",
       "182   0.0007   0.0007   0.0008   0.0009   0.0010   0.0010  \n",
       "183   0.0231   0.0246   0.0273   0.0271   0.0241   0.0260  \n",
       "184   0.1758   0.1833   0.1335   0.0910   0.0934   0.1122  \n",
       "185   0.3746   0.3901   0.4031   0.3581   0.3570   0.3826  \n",
       "186   2.6766   2.7536   3.0347   2.8964   2.6592   2.6379  \n",
       "187  16.1970  16.7848  17.5217  18.2193  18.7072  19.4854  \n",
       "188   0.0513   0.0575   0.0572   0.0533   0.0527   0.0565  \n",
       "189   0.0518   0.0577   0.0767   0.0818   0.0818   0.0592  \n",
       "190   0.0008   0.0008   0.0008   0.0007   0.0008   0.0008  \n",
       "191   0.1558   0.1712   0.1862   0.1932   0.2053   0.2238  \n",
       "192   0.0041   0.0038   0.0036   0.0037   0.0039   0.0039  \n",
       "193   0.0113   0.0125   0.0127   0.0127   0.0134   0.0145  \n",
       "194   0.0354   0.0404   0.0432   0.0426   0.0310   0.0268  \n",
       "195   0.0255   0.0280   0.0272   0.0212   0.0210   0.0259  \n",
       "196   0.0171   0.0191   0.0195   0.0200   0.0205   0.0228  \n",
       "\n",
       "[197 rows x 9 columns]"
      ]
     },
     "execution_count": 12,
     "metadata": {},
     "output_type": "execute_result"
    }
   ],
   "source": [
    "df"
   ]
  },
  {
   "cell_type": "markdown",
   "metadata": {},
   "source": [
    "## Explore Data\n",
    "\n",
    "-  In this section and the next, explore and manipulate the data in the Numpy array `gdp`.\n",
    "-  The array contains the national GDP data (in trillion US Dollars) from 2012 through 2017. The countries are organized by rows. Each column includes the national GDP data in a year. \n",
    "-  Write a Python code snippet with Numpy to answer each question. Do **not** use any explicit loop."
   ]
  },
  {
   "cell_type": "markdown",
   "metadata": {},
   "source": [
    "### Question 1. How many rows (countries) are there in array `gdp`?"
   ]
  },
  {
   "cell_type": "code",
   "execution_count": 14,
   "metadata": {},
   "outputs": [
    {
     "data": {
      "text/plain": [
       "197"
      ]
     },
     "execution_count": 14,
     "metadata": {},
     "output_type": "execute_result"
    }
   ],
   "source": [
    "pass\n",
    "gdp.shape[0]"
   ]
  },
  {
   "cell_type": "markdown",
   "metadata": {},
   "source": [
    "### Question 2. How many columns (years) are there in array `gdp`?"
   ]
  },
  {
   "cell_type": "code",
   "execution_count": 15,
   "metadata": {
    "scrolled": true
   },
   "outputs": [
    {
     "data": {
      "text/plain": [
       "6"
      ]
     },
     "execution_count": 15,
     "metadata": {},
     "output_type": "execute_result"
    }
   ],
   "source": [
    "pass\n",
    "gdp.shape[1]"
   ]
  },
  {
   "cell_type": "markdown",
   "metadata": {},
   "source": [
    "### Question 3. What is the data type of array `gdp`?"
   ]
  },
  {
   "cell_type": "code",
   "execution_count": 18,
   "metadata": {},
   "outputs": [
    {
     "data": {
      "text/plain": [
       "numpy.ndarray"
      ]
     },
     "execution_count": 18,
     "metadata": {},
     "output_type": "execute_result"
    }
   ],
   "source": [
    "pass\n",
    "type(gdp)"
   ]
  },
  {
   "cell_type": "markdown",
   "metadata": {},
   "source": [
    "### Question 4. Output the first five countries' GDPs from 2013 through 2016 (from the second column through the fifth column). "
   ]
  },
  {
   "cell_type": "code",
   "execution_count": 21,
   "metadata": {},
   "outputs": [
    {
     "data": {
      "text/html": [
       "<div>\n",
       "<style scoped>\n",
       "    .dataframe tbody tr th:only-of-type {\n",
       "        vertical-align: middle;\n",
       "    }\n",
       "\n",
       "    .dataframe tbody tr th {\n",
       "        vertical-align: top;\n",
       "    }\n",
       "\n",
       "    .dataframe thead th {\n",
       "        text-align: right;\n",
       "    }\n",
       "</style>\n",
       "<table border=\"1\" class=\"dataframe\">\n",
       "  <thead>\n",
       "    <tr style=\"text-align: right;\">\n",
       "      <th></th>\n",
       "      <th>2013</th>\n",
       "      <th>2014</th>\n",
       "      <th>2015</th>\n",
       "      <th>2016</th>\n",
       "    </tr>\n",
       "  </thead>\n",
       "  <tbody>\n",
       "    <tr>\n",
       "      <th>0</th>\n",
       "      <td>0.0206</td>\n",
       "      <td>0.0205</td>\n",
       "      <td>0.0199</td>\n",
       "      <td>0.0194</td>\n",
       "    </tr>\n",
       "    <tr>\n",
       "      <th>1</th>\n",
       "      <td>0.0128</td>\n",
       "      <td>0.0132</td>\n",
       "      <td>0.0114</td>\n",
       "      <td>0.0119</td>\n",
       "    </tr>\n",
       "    <tr>\n",
       "      <th>2</th>\n",
       "      <td>0.2098</td>\n",
       "      <td>0.2138</td>\n",
       "      <td>0.1660</td>\n",
       "      <td>0.1601</td>\n",
       "    </tr>\n",
       "    <tr>\n",
       "      <th>3</th>\n",
       "      <td>0.0006</td>\n",
       "      <td>0.0006</td>\n",
       "      <td>0.0007</td>\n",
       "      <td>0.0007</td>\n",
       "    </tr>\n",
       "    <tr>\n",
       "      <th>4</th>\n",
       "      <td>0.0033</td>\n",
       "      <td>0.0034</td>\n",
       "      <td>0.0028</td>\n",
       "      <td>0.0029</td>\n",
       "    </tr>\n",
       "  </tbody>\n",
       "</table>\n",
       "</div>"
      ],
      "text/plain": [
       "     2013    2014    2015    2016\n",
       "0  0.0206  0.0205  0.0199  0.0194\n",
       "1  0.0128  0.0132  0.0114  0.0119\n",
       "2  0.2098  0.2138  0.1660  0.1601\n",
       "3  0.0006  0.0006  0.0007  0.0007\n",
       "4  0.0033  0.0034  0.0028  0.0029"
      ]
     },
     "execution_count": 21,
     "metadata": {},
     "output_type": "execute_result"
    }
   ],
   "source": [
    "pass\n",
    "df.loc[:, '2013':'2016'].head()"
   ]
  },
  {
   "cell_type": "markdown",
   "metadata": {},
   "source": [
    "### Question 5. Output the last ten countries' GDPs in 2017 (the last column)."
   ]
  },
  {
   "cell_type": "code",
   "execution_count": 22,
   "metadata": {},
   "outputs": [
    {
     "data": {
      "text/plain": [
       "187    19.4854\n",
       "188     0.0565\n",
       "189     0.0592\n",
       "190     0.0008\n",
       "191     0.2238\n",
       "192     0.0039\n",
       "193     0.0145\n",
       "194     0.0268\n",
       "195     0.0259\n",
       "196     0.0228\n",
       "Name: 2017, dtype: float64"
      ]
     },
     "execution_count": 22,
     "metadata": {},
     "output_type": "execute_result"
    }
   ],
   "source": [
    "pass\n",
    "df.loc[:,'2017'].tail(10)"
   ]
  },
  {
   "cell_type": "markdown",
   "metadata": {},
   "source": [
    "### Question 6. Was the eighth country's GDP in 2017 higher than 0.5 trillion US Dollars? (True or false?)"
   ]
  },
  {
   "cell_type": "code",
   "execution_count": 23,
   "metadata": {},
   "outputs": [
    {
     "data": {
      "text/plain": [
       "True"
      ]
     },
     "execution_count": 23,
     "metadata": {},
     "output_type": "execute_result"
    }
   ],
   "source": [
    "pass\n",
    "df.loc[7, '2017'] > 0.5"
   ]
  },
  {
   "cell_type": "markdown",
   "metadata": {},
   "source": [
    "## Manipulate and Aggregate Data"
   ]
  },
  {
   "cell_type": "markdown",
   "metadata": {},
   "source": [
    "### Question 7. How many GDP values in the array are higher than 0.5 trillion US Dollars?\n",
    "\n",
    "*Hint: use `np.sum()` to count the number of True elements.*"
   ]
  },
  {
   "cell_type": "code",
   "execution_count": 24,
   "metadata": {},
   "outputs": [
    {
     "data": {
      "text/plain": [
       "142"
      ]
     },
     "execution_count": 24,
     "metadata": {},
     "output_type": "execute_result"
    }
   ],
   "source": [
    "pass\n",
    "np.sum(gdp > 0.5)"
   ]
  },
  {
   "cell_type": "markdown",
   "metadata": {},
   "source": [
    "### Question 8. How many countries had a GDP higher than 0.5 trillion US Dollars in 2017? "
   ]
  },
  {
   "cell_type": "code",
   "execution_count": 25,
   "metadata": {},
   "outputs": [
    {
     "data": {
      "text/plain": [
       "23"
      ]
     },
     "execution_count": 25,
     "metadata": {},
     "output_type": "execute_result"
    }
   ],
   "source": [
    "pass\n",
    "np.sum(df.loc[:,'2017'] > 0.5)"
   ]
  },
  {
   "cell_type": "markdown",
   "metadata": {},
   "source": [
    "### Question 9. Out of those countries that had a GDP higher than 0.5 trillion US Dollars in 2017, how many countries' GDP in 2016 was lower than 0.5 trillion US Dollars?"
   ]
  },
  {
   "cell_type": "code",
   "execution_count": 27,
   "metadata": {},
   "outputs": [
    {
     "data": {
      "text/plain": [
       "1"
      ]
     },
     "execution_count": 27,
     "metadata": {},
     "output_type": "execute_result"
    }
   ],
   "source": [
    "pass\n",
    "np.sum(df.loc[df.loc[:, '2017'] > 0.5, '2016'] < 0.5)"
   ]
  },
  {
   "cell_type": "markdown",
   "metadata": {},
   "source": [
    "### Question 10. How many countries had a lower GDP in 2017 than in 2016?"
   ]
  },
  {
   "cell_type": "code",
   "execution_count": 31,
   "metadata": {},
   "outputs": [
    {
     "data": {
      "text/plain": [
       "14"
      ]
     },
     "execution_count": 31,
     "metadata": {},
     "output_type": "execute_result"
    }
   ],
   "source": [
    "pass\n",
    "np.sum(df.loc[:,'2016'] > df.loc[:, '2017'])"
   ]
  },
  {
   "cell_type": "markdown",
   "metadata": {},
   "source": [
    "### Question 11. Output the row index of the country with the highest GDP in 2015.\n",
    "\n",
    "*Hint: use `np.argmax()`.*"
   ]
  },
  {
   "cell_type": "code",
   "execution_count": 32,
   "metadata": {},
   "outputs": [
    {
     "name": "stderr",
     "output_type": "stream",
     "text": [
      "/Users/Stefan1/anaconda3/lib/python3.7/site-packages/numpy/core/fromnumeric.py:56: FutureWarning: \n",
      "The current behaviour of 'Series.argmax' is deprecated, use 'idxmax'\n",
      "instead.\n",
      "The behavior of 'argmax' will be corrected to return the positional\n",
      "maximum in the future. For now, use 'series.values.argmax' or\n",
      "'np.argmax(np.array(values))' to get the position of the maximum\n",
      "row.\n",
      "  return getattr(obj, method)(*args, **kwds)\n"
     ]
    },
    {
     "data": {
      "text/plain": [
       "187"
      ]
     },
     "execution_count": 32,
     "metadata": {},
     "output_type": "execute_result"
    }
   ],
   "source": [
    "pass\n",
    "np.argmax(df.loc[:, '2015'])"
   ]
  },
  {
   "cell_type": "markdown",
   "metadata": {},
   "source": [
    "### Question 12. Output the first fifteen countries' respective average yearly GDP from 2012 through 2017.\n",
    "\n",
    "- Hint: use parameter `axis` in `np.mean()`."
   ]
  },
  {
   "cell_type": "code",
   "execution_count": 35,
   "metadata": {},
   "outputs": [
    {
     "data": {
      "text/plain": [
       "0     0.020100\n",
       "1     0.012433\n",
       "2     0.187733\n",
       "3     0.000633\n",
       "4     0.003100\n",
       "5     0.124983\n",
       "6     0.001350\n",
       "7     0.569867\n",
       "8     0.010983\n",
       "9     0.002617\n",
       "10    1.413700\n",
       "11    0.412367\n",
       "12    0.058500\n",
       "13    0.011350\n",
       "14    0.032567\n",
       "15    0.187083\n",
       "dtype: float64"
      ]
     },
     "execution_count": 35,
     "metadata": {},
     "output_type": "execute_result"
    }
   ],
   "source": [
    "pass\n",
    "np.mean(df.loc[0:15, '2012':'2017'],axis = 1)"
   ]
  },
  {
   "cell_type": "markdown",
   "metadata": {},
   "source": [
    "### Question 13. What was the global GDP in 2016 and 2017, respectively?"
   ]
  },
  {
   "cell_type": "code",
   "execution_count": 40,
   "metadata": {},
   "outputs": [
    {
     "data": {
      "text/plain": [
       "74.9563"
      ]
     },
     "execution_count": 40,
     "metadata": {},
     "output_type": "execute_result"
    }
   ],
   "source": [
    "pass\n",
    "np.sum(df.loc[:, '2016'])"
   ]
  },
  {
   "cell_type": "code",
   "execution_count": 41,
   "metadata": {},
   "outputs": [
    {
     "data": {
      "text/plain": [
       "79.66299999999998"
      ]
     },
     "execution_count": 41,
     "metadata": {},
     "output_type": "execute_result"
    }
   ],
   "source": [
    "np.sum(df.loc[:, '2017'])"
   ]
  },
  {
   "cell_type": "markdown",
   "metadata": {},
   "source": [
    "### Question 14. What was the fifth highest national GDP in 2017?\n",
    "\n",
    "*Hint: use `np.sort()`.*"
   ]
  },
  {
   "cell_type": "code",
   "execution_count": 42,
   "metadata": {},
   "outputs": [
    {
     "data": {
      "text/plain": [
       "2.6526"
      ]
     },
     "execution_count": 42,
     "metadata": {},
     "output_type": "execute_result"
    }
   ],
   "source": [
    "pass\n",
    "np.sort(df.loc[:, '2017'])[-5]"
   ]
  },
  {
   "cell_type": "markdown",
   "metadata": {},
   "source": [
    "### Question 15. How many countries' GDP increased by at least 30% from 2012 to 2017?"
   ]
  },
  {
   "cell_type": "code",
   "execution_count": 45,
   "metadata": {},
   "outputs": [
    {
     "data": {
      "text/plain": [
       "38"
      ]
     },
     "execution_count": 45,
     "metadata": {},
     "output_type": "execute_result"
    }
   ],
   "source": [
    "pass\n",
    "np.sum(df.loc[:, '2012'] * 1.3 < df.loc[:, '2017'])"
   ]
  }
 ],
 "metadata": {
  "kernelspec": {
   "display_name": "Python 3",
   "language": "python",
   "name": "python3"
  },
  "language_info": {
   "codemirror_mode": {
    "name": "ipython",
    "version": 3
   },
   "file_extension": ".py",
   "mimetype": "text/x-python",
   "name": "python",
   "nbconvert_exporter": "python",
   "pygments_lexer": "ipython3",
   "version": "3.7.3"
  }
 },
 "nbformat": 4,
 "nbformat_minor": 2
}
