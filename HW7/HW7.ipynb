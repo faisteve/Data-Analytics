{
 "cells": [
  {
   "cell_type": "code",
   "execution_count": 11,
   "metadata": {},
   "outputs": [
    {
     "data": {
      "text/plain": [
       "{'mean': 3.766666666666667,\n",
       " 'variance': 8.953888888888889,\n",
       " 'std': 2.9923049458383897}"
      ]
     },
     "execution_count": 11,
     "metadata": {},
     "output_type": "execute_result"
    }
   ],
   "source": [
    "def status(x): \n",
    "    import numpy as np\n",
    "    a_list = {}\n",
    "    ans_name_list = ['mean','variance','std']\n",
    "    m = np.mean(x)\n",
    "    v = np.var(x)\n",
    "    s = np.std(x)\n",
    "    ans_values = [m,v,s]\n",
    "    for i in range(len(ans_name_list)):\n",
    "        a_list[ans_name_list[i]] = ans_values[i]\n",
    "    return a_list\n",
    "x = [1,3.4,2,5.2,0.6,0.3,8,2.4,10,2,7,3.3]\n",
    "status(x)"
   ]
  },
  {
   "cell_type": "code",
   "execution_count": 14,
   "metadata": {},
   "outputs": [
    {
     "name": "stdout",
     "output_type": "stream",
     "text": [
      "Enter numbers or type \"STOP\" to quit 6\n",
      "Enter numbers or type \"STOP\" to quit 25\n",
      "Enter numbers or type \"STOP\" to quit 72\n",
      "Enter numbers or type \"STOP\" to quit 52\n",
      "Enter numbers or type \"STOP\" to quit 6\n",
      "Enter numbers or type \"STOP\" to quit 18\n",
      "Enter numbers or type \"STOP\" to quit 92\n",
      "Enter numbers or type \"STOP\" to quit 26\n",
      "Enter numbers or type \"STOP\" to quit 11\n",
      "Enter numbers or type \"STOP\" to quit 47\n",
      "Enter numbers or type \"STOP\" to quit STOP\n",
      "The mean of the numbers is: 35.5\n"
     ]
    }
   ],
   "source": [
    "import numpy as np\n",
    "try:\n",
    "    l = []\n",
    "    while True:\n",
    "        l.append(float(input('Enter numbers or type \"STOP\" to quit ')))\n",
    "except:\n",
    "    print('The mean of the numbers is: '+ str(np.mean(l)))\n",
    "        "
   ]
  },
  {
   "cell_type": "code",
   "execution_count": null,
   "metadata": {},
   "outputs": [],
   "source": []
  }
 ],
 "metadata": {
  "kernelspec": {
   "display_name": "Python 3",
   "language": "python",
   "name": "python3"
  }
 },
 "nbformat": 4,
 "nbformat_minor": 2
}
