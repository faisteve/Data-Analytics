{
 "cells": [
  {
   "cell_type": "code",
   "execution_count": 1,
   "metadata": {},
   "outputs": [
    {
     "name": "stdout",
     "output_type": "stream",
     "text": [
      "What is my cats name?\tSoloman\n",
      "namoloS\n"
     ]
    }
   ],
   "source": [
    "userinfo = input(str('What is my cats name?\\t'))\n",
    "infoprint = userinfo [::-1]\n",
    "print(infoprint)"
   ]
  },
  {
   "cell_type": "code",
   "execution_count": 2,
   "metadata": {},
   "outputs": [
    {
     "name": "stdout",
     "output_type": "stream",
     "text": [
      "What number do I add to my list?\t5\n",
      "2.75\n"
     ]
    }
   ],
   "source": [
    "list = [1,2,3]\n",
    "userinput = int(input('What number do I add to my list?\\t'))\n",
    "list.append(userinput)\n",
    "print(sum(list)/4)"
   ]
  },
  {
   "cell_type": "code",
   "execution_count": 3,
   "metadata": {},
   "outputs": [
    {
     "name": "stdout",
     "output_type": "stream",
     "text": [
      "What is the radius of the circle?\t10\n",
      "The area of the circle with a radius of:\t10.0\tis:\n",
      " 314.1592653589793\n"
     ]
    }
   ],
   "source": [
    "r = float(input ('What is the radius of the circle?\\t'))\n",
    "from math import pi\n",
    "print (\"The area of the circle with a radius of:\\t\" + str(r) + \"\\tis:\\n \" + str(pi * r**2))"
   ]
  },
  {
   "cell_type": "code",
   "execution_count": 1,
   "metadata": {},
   "outputs": [
    {
     "name": "stdout",
     "output_type": "stream",
     "text": [
      "what is your favorite number?\t8\n",
      "2980.957987041727\n",
      "3.4743558552260145\n"
     ]
    }
   ],
   "source": [
    "x = float(input(\"what is your favorite number?\\t\"))\n",
    "from math import e\n",
    "import math\n",
    "y = e**(x)\n",
    "print(y)\n",
    "print(math.log10(y))"
   ]
  }
 ],
 "metadata": {
  "kernelspec": {
   "display_name": "Python 3",
   "language": "python",
   "name": "python3"
  },
  "language_info": {
   "codemirror_mode": {
    "name": "ipython",
    "version": 3
   },
   "file_extension": ".py",
   "mimetype": "text/x-python",
   "name": "python",
   "nbconvert_exporter": "python",
   "pygments_lexer": "ipython3",
   "version": "3.7.3"
  }
 },
 "nbformat": 4,
 "nbformat_minor": 2
}
